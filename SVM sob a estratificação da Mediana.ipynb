{
 "cells": [
  {
   "cell_type": "code",
   "execution_count": 1,
   "metadata": {},
   "outputs": [],
   "source": [
    "import numpy as np\n",
    "import pandas as pd"
   ]
  },
  {
   "cell_type": "code",
   "execution_count": 23,
   "metadata": {},
   "outputs": [],
   "source": [
    "base = pd.read_csv(filepath_or_buffer='/Users/Nathan/Desktop/Machine Learning/Projeto de Extensão/FEATURES/FiltredBDS.txt', sep = '\\t')\n"
   ]
  },
  {
   "cell_type": "code",
   "execution_count": 24,
   "metadata": {},
   "outputs": [
    {
     "data": {
      "text/plain": [
       "22.0"
      ]
     },
     "execution_count": 24,
     "metadata": {},
     "output_type": "execute_result"
    }
   ],
   "source": [
    "mediana = np.median(base['Best_T'].values)\n",
    "mediana\n"
   ]
  },
  {
   "cell_type": "code",
   "execution_count": 25,
   "metadata": {},
   "outputs": [],
   "source": [
    "#categorizando o gênero\n",
    "from sklearn.preprocessing import LabelEncoder\n",
    "laberencoder= LabelEncoder()\n",
    "base['Gender'] = laberencoder.fit_transform(base['Gender'])"
   ]
  },
  {
   "cell_type": "code",
   "execution_count": 26,
   "metadata": {},
   "outputs": [],
   "source": [
    "#FEATURES DO RESNET\n",
    "resnetfeatures = pd.read_csv(filepath_or_buffer='/Users/Nathan/Desktop/Machine Learning/Projeto de Extensão/2020/Outubro/heat_map_encoded.txt', sep = '\\t')\n",
    "resnetfeatures = resnetfeatures.reindex()\n",
    "resnetfeatures.drop('Unnamed: 0',inplace = True, axis = 1)\n",
    "\n",
    "#UNINDO AS FEATURES\n",
    "base = base.join(resnetfeatures)\n",
    "\n",
    "base = base.drop(['Unnamed: 0', 'Unnamed: 0.1', 'Subject', 'AgeGroup',\n",
    "       'FootLen', 'Nationality','BMI', 'SkinColor',\n",
    "       'Ystudy', 'Footwear', 'Illness', 'Illness2', 'Nmedication',\n",
    "       'Medication', 'Ortho-Prosthesis', 'Ortho-Prosthesis2', 'Disability',\n",
    "       'Disability2', 'Falls12m', 'FES_1', 'FES_2', 'FES_3', 'FES_4', 'FES_5',\n",
    "       'FES_6', 'FES_7', 'FES_T', 'FES_S', 'IPAQ_1a', 'IPAQ_1b', 'IPAQ_2a',\n",
    "       'IPAQ_2b', 'IPAQ_3a', 'IPAQ_3b', 'IPAQ_4a', 'IPAQ_4b', 'IPAQ_S',\n",
    "       'TMT_timeA', 'TMT_errorsA', 'TMT_timeB', 'TMT_errorsB', 'Best_1',\n",
    "       'Best_2', 'Best_3l', 'Best_3r', 'Best_4', 'Best_5', 'Best_6l',\n",
    "       'Best_6r', 'Best_7', 'Best_8', 'Best_9', 'Best_10', 'Best_11',\n",
    "       'Best_12', 'Best_13', 'Best_14','x_entropy_cop - Open - Firm','y_entropy_cop - Open - Firm',\n",
    "       'x_entropy_cop - Closed - Firm','y_entropy_cop - Closed - Firm', 'x_entropy_cop - Open - Foam',\n",
    "        'y_entropy_cop - Open - Foam','x_entropy_cop - Closed - Foam','y_entropy_cop - Closed - Foam',\n",
    "        'x_impulse_factor_cop - Open - Firm','y_impulse_factor_cop - Open - Firm',\n",
    "        'x_impulse_factor_cop - Open - Foam','y_impulse_factor_cop - Open - Foam',\n",
    "        'x_impulse_factor_cop - Closed - Firm','y_impulse_factor_cop - Closed - Firm',\n",
    "        'x_kurtosis_cop - Open - Firm','y_kurtosis_cop - Open - Firm',\n",
    "        'x_kurtosis_cop - Open - Foam','y_kurtosis_cop - Open - Foam',\n",
    "        'x_kurtosis_cop - Closed - Firm','y_kurtosis_cop - Closed - Firm',\n",
    "        'x_kurtosis_factor_cop - Open - Firm','y_kurtosis_factor_cop - Open - Firm',\n",
    "        'x_kurtosis_factor_cop - Open - Foam','y_kurtosis_factor_cop - Open - Foam',\n",
    "        'x_kurtosis_factor_cop - Closed - Firm','y_kurtosis_factor_cop - Closed - Firm'\n",
    "        ], axis = 1)\n",
    "\n"
   ]
  },
  {
   "cell_type": "code",
   "execution_count": 27,
   "metadata": {},
   "outputs": [
    {
     "data": {
      "text/plain": [
       "0      25\n",
       "1      25\n",
       "2      27\n",
       "3      26\n",
       "4      27\n",
       "       ..\n",
       "153    28\n",
       "154    24\n",
       "155    25\n",
       "156    26\n",
       "157    26\n",
       "Name: Best_T, Length: 158, dtype: int64"
      ]
     },
     "execution_count": 27,
     "metadata": {},
     "output_type": "execute_result"
    }
   ],
   "source": [
    "base.iloc[:,4] "
   ]
  },
  {
   "cell_type": "code",
   "execution_count": 28,
   "metadata": {},
   "outputs": [],
   "source": [
    "#Criando a base de dados abaixo da mediana\n",
    "baseA = base.copy()\n",
    "for n in range(len(base.index)):\n",
    "    if base.iloc[n,4] > mediana:\n",
    "        baseA.drop(labels=n, inplace = True)\n",
    "        \n",
    "#É necessário resetar o indice, pois o KFOLD precisa dos indices do row sequencialmente dispostos        \n",
    "baseA.reset_index(inplace= True)\n",
    "baseA.drop('index', inplace= True, axis=1)\n",
    "\n",
    "#atribui as entradas\n",
    "xA = baseA.drop(['Best_T'],axis=1)\n",
    "\n",
    "#normaliza as entradas\n",
    "#NORMALIZANDO O DATAFRAME\n",
    "from sklearn.preprocessing import StandardScaler\n",
    "scaler = StandardScaler()\n",
    "xA = scaler.fit_transform(xA)\n",
    "\n",
    "xA = pd.DataFrame(xA)\n",
    "\n",
    "yA = baseA['Best_T']"
   ]
  },
  {
   "cell_type": "code",
   "execution_count": 32,
   "metadata": {
    "scrolled": true
   },
   "outputs": [
    {
     "data": {
      "text/plain": [
       "0"
      ]
     },
     "execution_count": 32,
     "metadata": {},
     "output_type": "execute_result"
    }
   ],
   "source": [
    "yA.shape[0] - xA.shape[0]"
   ]
  },
  {
   "cell_type": "code",
   "execution_count": 33,
   "metadata": {},
   "outputs": [],
   "source": [
    "#Criando a base de dados abaixo da mediana\n",
    "baseB = base.copy()\n",
    "for n in range(len(base.index)):\n",
    "    if base.iloc[n,4] <= mediana:\n",
    "        baseB.drop(labels=n, inplace = True)\n",
    "        \n",
    "#É necessário resetar o indice, pois o KFOLD precisa dos indices do row sequencialmente dispostos        \n",
    "baseB.reset_index(inplace= True)\n",
    "baseB.drop('index', inplace= True, axis=1)\n",
    "\n",
    "#atribui as entradas\n",
    "xB = baseB.drop(['Best_T'],axis=1)\n",
    "\n",
    "#NORMALIZANDO O DATAFRAME\n",
    "from sklearn.preprocessing import StandardScaler\n",
    "scaler = StandardScaler()\n",
    "xB = scaler.fit_transform(xB)\n",
    "\n",
    "xB = pd.DataFrame(xB)\n",
    "\n",
    "yB = baseB['Best_T']"
   ]
  },
  {
   "cell_type": "code",
   "execution_count": 34,
   "metadata": {
    "scrolled": true
   },
   "outputs": [
    {
     "data": {
      "text/plain": [
       "0"
      ]
     },
     "execution_count": 34,
     "metadata": {},
     "output_type": "execute_result"
    }
   ],
   "source": [
    "yB.shape[0] - xB.shape[0]"
   ]
  },
  {
   "cell_type": "markdown",
   "metadata": {},
   "source": [
    "# SVM BASE A"
   ]
  },
  {
   "cell_type": "code",
   "execution_count": 35,
   "metadata": {},
   "outputs": [
    {
     "data": {
      "text/plain": [
       "GridSearchCV(cv=10, estimator=SVR(),\n",
       "             param_grid={'epsilon': [0.1, 0.2, 0.3, 0.4, 0.5, 0.6, 0.7, 0.8,\n",
       "                                     0.9],\n",
       "                         'kernel': ('poly', 'rbf', 'sigmoid')},\n",
       "             scoring='neg_mean_absolute_error')"
      ]
     },
     "execution_count": 35,
     "metadata": {},
     "output_type": "execute_result"
    }
   ],
   "source": [
    "from sklearn.model_selection import GridSearchCV\n",
    "from sklearn.svm import SVR\n",
    "\n",
    "parametros = {'kernel':('poly', 'rbf', 'sigmoid'), 'epsilon':[(x/10) for x in range(1,10,1)]}\n",
    "\n",
    "svrq = SVR()\n",
    "clf = GridSearchCV(svrq, parametros, scoring='neg_mean_absolute_error', cv= 10)\n",
    "\n",
    "clf.fit(xA,yA)\n",
    "\n",
    "\n"
   ]
  },
  {
   "cell_type": "code",
   "execution_count": 36,
   "metadata": {},
   "outputs": [
    {
     "name": "stdout",
     "output_type": "stream",
     "text": [
      "Melhor estimator SVR(epsilon=0.7, kernel='sigmoid')\n"
     ]
    }
   ],
   "source": [
    "print('Melhor estimator',clf.best_estimator_)"
   ]
  },
  {
   "cell_type": "code",
   "execution_count": 37,
   "metadata": {},
   "outputs": [
    {
     "name": "stdout",
     "output_type": "stream",
     "text": [
      "Melhor MAE 2.020474469595178\n"
     ]
    }
   ],
   "source": [
    "bestmaeA=-clf.best_score_\n",
    "print('Melhor MAE',bestmaeA)"
   ]
  },
  {
   "cell_type": "markdown",
   "metadata": {},
   "source": [
    "# SVM BASE B"
   ]
  },
  {
   "cell_type": "code",
   "execution_count": 38,
   "metadata": {},
   "outputs": [
    {
     "data": {
      "text/plain": [
       "GridSearchCV(cv=10, estimator=SVR(),\n",
       "             param_grid={'epsilon': [0.1, 0.2, 0.3, 0.4, 0.5, 0.6, 0.7, 0.8,\n",
       "                                     0.9],\n",
       "                         'kernel': ('poly', 'rbf', 'sigmoid')},\n",
       "             scoring='neg_mean_absolute_error')"
      ]
     },
     "execution_count": 38,
     "metadata": {},
     "output_type": "execute_result"
    }
   ],
   "source": [
    "from sklearn.model_selection import GridSearchCV\n",
    "from sklearn.svm import SVR\n",
    "\n",
    "parametros = {'kernel':('poly', 'rbf', 'sigmoid'), 'epsilon':[(x/10) for x in range(1,10,1)]}\n",
    "\n",
    "svrq = SVR()\n",
    "clf = GridSearchCV(svrq, parametros, scoring='neg_mean_absolute_error', cv= 10)\n",
    "\n",
    "clf.fit(xB,yB)\n"
   ]
  },
  {
   "cell_type": "code",
   "execution_count": 39,
   "metadata": {},
   "outputs": [
    {
     "name": "stdout",
     "output_type": "stream",
     "text": [
      "Melhor estimator SVR(epsilon=0.9, kernel='poly')\n"
     ]
    }
   ],
   "source": [
    "print('Melhor estimator',clf.best_estimator_)"
   ]
  },
  {
   "cell_type": "code",
   "execution_count": 40,
   "metadata": {},
   "outputs": [
    {
     "name": "stdout",
     "output_type": "stream",
     "text": [
      "Melhor MAE 1.1826277709652948\n"
     ]
    }
   ],
   "source": [
    "bestmaeB=-clf.best_score_\n",
    "print('Melhor MAE',bestmaeB)"
   ]
  },
  {
   "cell_type": "code",
   "execution_count": null,
   "metadata": {},
   "outputs": [],
   "source": []
  }
 ],
 "metadata": {
  "kernelspec": {
   "display_name": "Python 3",
   "language": "python",
   "name": "python3"
  },
  "language_info": {
   "codemirror_mode": {
    "name": "ipython",
    "version": 3
   },
   "file_extension": ".py",
   "mimetype": "text/x-python",
   "name": "python",
   "nbconvert_exporter": "python",
   "pygments_lexer": "ipython3",
   "version": "3.6.12"
  }
 },
 "nbformat": 4,
 "nbformat_minor": 4
}

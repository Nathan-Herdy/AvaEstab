{
 "cells": [
  {
   "cell_type": "code",
   "execution_count": 5,
   "metadata": {},
   "outputs": [],
   "source": [
    "import pandas as pd\n"
   ]
  },
  {
   "cell_type": "code",
   "execution_count": 6,
   "metadata": {},
   "outputs": [],
   "source": [
    "from sklearn.preprocessing import LabelEncoder\n",
    "laberencoder= LabelEncoder()"
   ]
  },
  {
   "cell_type": "code",
   "execution_count": 7,
   "metadata": {},
   "outputs": [],
   "source": [
    "base = pd.read_csv(filepath_or_buffer='/Users/Nathan/Desktop/Machine Learning/Projeto de Extensão/FEATURES/FiltredBDS.txt', sep = '\\t')"
   ]
  },
  {
   "cell_type": "code",
   "execution_count": 8,
   "metadata": {},
   "outputs": [],
   "source": [
    "#categorizando o genero\n",
    "base['Gender'] = laberencoder.fit_transform(base['Gender'])"
   ]
  },
  {
   "cell_type": "code",
   "execution_count": 9,
   "metadata": {},
   "outputs": [],
   "source": [
    "x = base.drop(['Unnamed: 0', 'Unnamed: 0.1', 'Subject', 'AgeGroup',\n",
    "       'FootLen', 'Nationality','BMI', 'SkinColor',\n",
    "       'Ystudy', 'Footwear', 'Illness', 'Illness2', 'Nmedication',\n",
    "       'Medication', 'Ortho-Prosthesis', 'Ortho-Prosthesis2', 'Disability',\n",
    "       'Disability2', 'Falls12m', 'FES_1', 'FES_2', 'FES_3', 'FES_4', 'FES_5',\n",
    "       'FES_6', 'FES_7', 'FES_T', 'FES_S', 'IPAQ_1a', 'IPAQ_1b', 'IPAQ_2a',\n",
    "       'IPAQ_2b', 'IPAQ_3a', 'IPAQ_3b', 'IPAQ_4a', 'IPAQ_4b', 'IPAQ_S',\n",
    "       'TMT_timeA', 'TMT_errorsA', 'TMT_timeB', 'TMT_errorsB', 'Best_1',\n",
    "       'Best_2', 'Best_3l', 'Best_3r', 'Best_4', 'Best_5', 'Best_6l',\n",
    "       'Best_6r', 'Best_7', 'Best_8', 'Best_9', 'Best_10', 'Best_11',\n",
    "       'Best_12', 'Best_13', 'Best_14', 'Best_T','x_entropy_cop - Open - Firm','y_entropy_cop - Open - Firm',\n",
    "       'x_entropy_cop - Closed - Firm','y_entropy_cop - Closed - Firm', 'x_entropy_cop - Open - Foam',\n",
    "        'y_entropy_cop - Open - Foam','x_entropy_cop - Closed - Foam','y_entropy_cop - Closed - Foam',\n",
    "        'x_impulse_factor_cop - Open - Firm','y_impulse_factor_cop - Open - Firm',\n",
    "        'x_impulse_factor_cop - Open - Foam','y_impulse_factor_cop - Open - Foam',\n",
    "        'x_impulse_factor_cop - Closed - Firm','y_impulse_factor_cop - Closed - Firm',\n",
    "        'x_kurtosis_cop - Open - Firm','y_kurtosis_cop - Open - Firm',\n",
    "        'x_kurtosis_cop - Open - Foam','y_kurtosis_cop - Open - Foam',\n",
    "        'x_kurtosis_cop - Closed - Firm','y_kurtosis_cop - Closed - Firm',\n",
    "        'x_kurtosis_factor_cop - Open - Firm','y_kurtosis_factor_cop - Open - Firm',\n",
    "        'x_kurtosis_factor_cop - Open - Foam','y_kurtosis_factor_cop - Open - Foam',\n",
    "        'x_kurtosis_factor_cop - Closed - Firm','y_kurtosis_factor_cop - Closed - Firm'\n",
    "        ], axis = 1)"
   ]
  },
  {
   "cell_type": "code",
   "execution_count": 10,
   "metadata": {},
   "outputs": [],
   "source": [
    "#FEATURES DO RESNET\n",
    "resnetfeatures = pd.read_csv(filepath_or_buffer='/Users/Nathan/Desktop/Machine Learning/Projeto de Extensão/2020/Outubro/heat_map_encoded.txt', sep = '\\t')\n",
    "resnetfeatures = resnetfeatures.reindex()\n",
    "resnetfeatures.drop('Unnamed: 0',inplace = True, axis = 1)\n",
    "\n",
    "#UNINDO AS FEATURES\n",
    "x = x.join(resnetfeatures)\n",
    "\n",
    "#NORMALIZANDO O DATAFRAME\n",
    "from sklearn.preprocessing import StandardScaler\n",
    "scaler = StandardScaler()\n",
    "x = scaler.fit_transform(x)\n",
    "\n",
    "x = pd.DataFrame(x)"
   ]
  },
  {
   "cell_type": "code",
   "execution_count": 11,
   "metadata": {},
   "outputs": [],
   "source": [
    "y = base['Best_T']"
   ]
  },
  {
   "cell_type": "code",
   "execution_count": 12,
   "metadata": {},
   "outputs": [
    {
     "data": {
      "text/plain": [
       "0      25\n",
       "1      25\n",
       "2      27\n",
       "3      26\n",
       "4      27\n",
       "       ..\n",
       "153    28\n",
       "154    24\n",
       "155    25\n",
       "156    26\n",
       "157    26\n",
       "Name: Best_T, Length: 158, dtype: int64"
      ]
     },
     "execution_count": 12,
     "metadata": {},
     "output_type": "execute_result"
    }
   ],
   "source": [
    "y"
   ]
  },
  {
   "cell_type": "code",
   "execution_count": 13,
   "metadata": {
    "scrolled": true
   },
   "outputs": [
    {
     "data": {
      "text/plain": [
       "GridSearchCV(cv=10, estimator=SVR(),\n",
       "             param_grid={'epsilon': [0.1, 0.2, 0.3, 0.4, 0.5, 0.6, 0.7, 0.8,\n",
       "                                     0.9],\n",
       "                         'kernel': ('poly', 'rbf', 'sigmoid')},\n",
       "             scoring='neg_mean_absolute_error')"
      ]
     },
     "execution_count": 13,
     "metadata": {},
     "output_type": "execute_result"
    }
   ],
   "source": [
    "#from sklearn.model_selection import train_test_split\n",
    "#x_train, x_test, y_train, y_test = train_test_split(x, y, test_size = 0.10)\n",
    "\n",
    "from sklearn.model_selection import GridSearchCV\n",
    "from sklearn.svm import SVR\n",
    "\n",
    "parametros = {'kernel':('poly', 'rbf', 'sigmoid'), 'epsilon':[(x/10) for x in range(1,10,1)]}\n",
    "\n",
    "svrq = SVR()\n",
    "clf = GridSearchCV(svrq, parametros, scoring='neg_mean_absolute_error', cv= 10)\n",
    "\n",
    "clf.fit(x,y)\n"
   ]
  },
  {
   "cell_type": "code",
   "execution_count": 14,
   "metadata": {},
   "outputs": [
    {
     "data": {
      "text/plain": [
       "{'mean_fit_time': array([0.05780969, 0.05657156, 0.05691042, 0.06011868, 0.05176947,\n",
       "        0.05559554, 0.06144223, 0.06349318, 0.05633266, 0.06025989,\n",
       "        0.06792612, 0.06707337, 0.05263164, 0.05312214, 0.05312233,\n",
       "        0.07395272, 0.06186035, 0.05638423, 0.05772727, 0.05312424,\n",
       "        0.0515599 , 0.05156045, 0.04843588, 0.05468466, 0.04999783,\n",
       "        0.04999769, 0.0499984 ]),\n",
       " 'std_fit_time': array([0.01000438, 0.01218705, 0.00806433, 0.01263702, 0.00762869,\n",
       "        0.00620495, 0.01554993, 0.01718974, 0.0132354 , 0.01759442,\n",
       "        0.02086596, 0.02268898, 0.00766493, 0.00765543, 0.00765625,\n",
       "        0.01578415, 0.01607277, 0.01321383, 0.01217576, 0.0076562 ,\n",
       "        0.00716047, 0.00715974, 0.00468717, 0.00781248, 0.00625019,\n",
       "        0.0062502 , 0.00625157]),\n",
       " 'mean_score_time': array([0.01875243, 0.01972675, 0.02014937, 0.01937754, 0.02210486,\n",
       "        0.01953952, 0.0239712 , 0.02310033, 0.02379754, 0.02499397,\n",
       "        0.02289963, 0.02535779, 0.01886358, 0.02031567, 0.01719007,\n",
       "        0.02386603, 0.02186506, 0.02049317, 0.02046418, 0.01739433,\n",
       "        0.01875217, 0.0187521 , 0.02031419, 0.01562779, 0.02031457,\n",
       "        0.01718984, 0.01875181]),\n",
       " 'std_score_time': array([6.24985723e-03, 6.06856613e-03, 6.91994993e-03, 6.21720152e-03,\n",
       "        7.40322203e-03, 4.79637666e-03, 9.28395928e-03, 7.57080768e-03,\n",
       "        7.30398726e-03, 1.27351206e-02, 9.81929172e-03, 6.80792039e-03,\n",
       "        6.34575023e-03, 7.16194493e-03, 4.68894702e-03, 7.38759270e-03,\n",
       "        6.88034411e-03, 6.62423168e-03, 7.40457280e-03, 4.65902817e-03,\n",
       "        6.24992853e-03, 6.24924920e-03, 7.15942660e-03, 9.23698932e-07,\n",
       "        7.15881259e-03, 4.68711867e-03, 6.25016758e-03]),\n",
       " 'param_epsilon': masked_array(data=[0.1, 0.1, 0.1, 0.2, 0.2, 0.2, 0.3, 0.3, 0.3, 0.4, 0.4,\n",
       "                    0.4, 0.5, 0.5, 0.5, 0.6, 0.6, 0.6, 0.7, 0.7, 0.7, 0.8,\n",
       "                    0.8, 0.8, 0.9, 0.9, 0.9],\n",
       "              mask=[False, False, False, False, False, False, False, False,\n",
       "                    False, False, False, False, False, False, False, False,\n",
       "                    False, False, False, False, False, False, False, False,\n",
       "                    False, False, False],\n",
       "        fill_value='?',\n",
       "             dtype=object),\n",
       " 'param_kernel': masked_array(data=['poly', 'rbf', 'sigmoid', 'poly', 'rbf', 'sigmoid',\n",
       "                    'poly', 'rbf', 'sigmoid', 'poly', 'rbf', 'sigmoid',\n",
       "                    'poly', 'rbf', 'sigmoid', 'poly', 'rbf', 'sigmoid',\n",
       "                    'poly', 'rbf', 'sigmoid', 'poly', 'rbf', 'sigmoid',\n",
       "                    'poly', 'rbf', 'sigmoid'],\n",
       "              mask=[False, False, False, False, False, False, False, False,\n",
       "                    False, False, False, False, False, False, False, False,\n",
       "                    False, False, False, False, False, False, False, False,\n",
       "                    False, False, False],\n",
       "        fill_value='?',\n",
       "             dtype=object),\n",
       " 'params': [{'epsilon': 0.1, 'kernel': 'poly'},\n",
       "  {'epsilon': 0.1, 'kernel': 'rbf'},\n",
       "  {'epsilon': 0.1, 'kernel': 'sigmoid'},\n",
       "  {'epsilon': 0.2, 'kernel': 'poly'},\n",
       "  {'epsilon': 0.2, 'kernel': 'rbf'},\n",
       "  {'epsilon': 0.2, 'kernel': 'sigmoid'},\n",
       "  {'epsilon': 0.3, 'kernel': 'poly'},\n",
       "  {'epsilon': 0.3, 'kernel': 'rbf'},\n",
       "  {'epsilon': 0.3, 'kernel': 'sigmoid'},\n",
       "  {'epsilon': 0.4, 'kernel': 'poly'},\n",
       "  {'epsilon': 0.4, 'kernel': 'rbf'},\n",
       "  {'epsilon': 0.4, 'kernel': 'sigmoid'},\n",
       "  {'epsilon': 0.5, 'kernel': 'poly'},\n",
       "  {'epsilon': 0.5, 'kernel': 'rbf'},\n",
       "  {'epsilon': 0.5, 'kernel': 'sigmoid'},\n",
       "  {'epsilon': 0.6, 'kernel': 'poly'},\n",
       "  {'epsilon': 0.6, 'kernel': 'rbf'},\n",
       "  {'epsilon': 0.6, 'kernel': 'sigmoid'},\n",
       "  {'epsilon': 0.7, 'kernel': 'poly'},\n",
       "  {'epsilon': 0.7, 'kernel': 'rbf'},\n",
       "  {'epsilon': 0.7, 'kernel': 'sigmoid'},\n",
       "  {'epsilon': 0.8, 'kernel': 'poly'},\n",
       "  {'epsilon': 0.8, 'kernel': 'rbf'},\n",
       "  {'epsilon': 0.8, 'kernel': 'sigmoid'},\n",
       "  {'epsilon': 0.9, 'kernel': 'poly'},\n",
       "  {'epsilon': 0.9, 'kernel': 'rbf'},\n",
       "  {'epsilon': 0.9, 'kernel': 'sigmoid'}],\n",
       " 'split0_test_score': array([-4.40151364, -3.96170027, -4.46171958, -4.3486906 , -3.96759633,\n",
       "        -4.43277234, -4.35323149, -3.97743257, -4.43995891, -4.33013433,\n",
       "        -3.98483946, -4.44644955, -4.30694916, -3.99828544, -4.44076643,\n",
       "        -4.32257739, -3.99148162, -4.38193159, -4.33712884, -3.99633183,\n",
       "        -4.33018446, -4.3501005 , -4.00033013, -4.32664775, -4.38956046,\n",
       "        -4.00248398, -4.30597784]),\n",
       " 'split1_test_score': array([-3.02611415, -2.55120121, -2.54636607, -3.00056116, -2.54667886,\n",
       "        -2.49111142, -3.01423307, -2.55106856, -2.46731496, -3.02127329,\n",
       "        -2.55804107, -2.447117  , -3.0049122 , -2.57181265, -2.45774203,\n",
       "        -3.0047759 , -2.57294943, -2.49951085, -3.02900554, -2.57382922,\n",
       "        -2.40087223, -3.04784364, -2.57743758, -2.44374129, -3.06472771,\n",
       "        -2.56970004, -2.45728601]),\n",
       " 'split2_test_score': array([-2.84295661, -2.11877921, -2.40028951, -2.83419086, -2.12696656,\n",
       "        -2.40091365, -2.80971365, -2.13567129, -2.39016921, -2.80222386,\n",
       "        -2.14564316, -2.40289088, -2.79706971, -2.15092123, -2.41451452,\n",
       "        -2.78783249, -2.14618073, -2.43058453, -2.77989976, -2.13530352,\n",
       "        -2.40917891, -2.76710713, -2.12814231, -2.39485228, -2.75133571,\n",
       "        -2.12140491, -2.37833733]),\n",
       " 'split3_test_score': array([-3.08953668, -2.69809503, -2.57573006, -3.05459401, -2.67029344,\n",
       "        -2.58645533, -3.05700961, -2.64605944, -2.52889023, -3.0568337 ,\n",
       "        -2.62620311, -2.5421018 , -3.03786973, -2.61976386, -2.47475271,\n",
       "        -3.03621109, -2.62214565, -2.48581459, -3.07000146, -2.62379232,\n",
       "        -2.48962812, -3.11458135, -2.62928963, -2.48338042, -3.1545193 ,\n",
       "        -2.62882001, -2.4513917 ]),\n",
       " 'split4_test_score': array([-4.01605963, -3.70718839, -3.366807  , -4.00026747, -3.67731675,\n",
       "        -3.38253623, -4.02915789, -3.65320069, -3.37523674, -4.05563505,\n",
       "        -3.61958462, -3.321831  , -4.05484634, -3.58305323, -3.26956405,\n",
       "        -4.08352602, -3.55482955, -3.15426938, -4.1148302 , -3.51896151,\n",
       "        -3.07252652, -4.09346727, -3.51494468, -3.06368132, -4.03228732,\n",
       "        -3.51777794, -3.05513185]),\n",
       " 'split5_test_score': array([-4.29426897, -3.49988039, -3.11055296, -4.25407093, -3.48045738,\n",
       "        -3.08788904, -4.24413431, -3.43871972, -3.10543525, -4.26763152,\n",
       "        -3.41047263, -3.13885597, -4.29044529, -3.40010343, -3.03665677,\n",
       "        -4.32486239, -3.39841812, -3.03197195, -4.33344347, -3.39737098,\n",
       "        -3.0447752 , -4.33351014, -3.39785364, -2.98844549, -4.31899229,\n",
       "        -3.3844696 , -2.97652467]),\n",
       " 'split6_test_score': array([-3.45695763, -3.41813102, -3.02051618, -3.42189583, -3.41893764,\n",
       "        -3.046705  , -3.4270453 , -3.40830362, -3.03903898, -3.40999239,\n",
       "        -3.39686808, -2.98076802, -3.38600418, -3.38575634, -2.93593813,\n",
       "        -3.3825645 , -3.36376145, -2.8987128 , -3.41702027, -3.33565321,\n",
       "        -2.88370659, -3.45280865, -3.30564637, -2.86608979, -3.48793976,\n",
       "        -3.26942347, -2.83226383]),\n",
       " 'split7_test_score': array([-3.55391513, -3.05067151, -2.9079716 , -3.56833387, -3.04211451,\n",
       "        -2.90951713, -3.5710875 , -3.02877855, -2.86838406, -3.57562004,\n",
       "        -3.01942259, -2.87102402, -3.57666675, -3.01773494, -2.89017357,\n",
       "        -3.57796203, -3.01538685, -2.89497072, -3.56660755, -3.00838972,\n",
       "        -2.87490054, -3.56429368, -3.00274756, -2.84077339, -3.57215323,\n",
       "        -2.99419844, -2.82274657]),\n",
       " 'split8_test_score': array([-2.28851055, -2.17333782, -2.49059684, -2.29765397, -2.16093965,\n",
       "        -2.46912196, -2.28753366, -2.1416247 , -2.45053426, -2.28121669,\n",
       "        -2.11607788, -2.42552815, -2.27013525, -2.09228745, -2.38365045,\n",
       "        -2.27494822, -2.07911747, -2.33549056, -2.28093633, -2.06903082,\n",
       "        -2.29892712, -2.27624362, -2.06273787, -2.24331114, -2.25826593,\n",
       "        -2.03946147, -2.2181048 ]),\n",
       " 'split9_test_score': array([-2.43105245, -2.26052702, -1.68330951, -2.43302469, -2.26698158,\n",
       "        -1.70704536, -2.43838575, -2.27024175, -1.72190265, -2.44007787,\n",
       "        -2.27951029, -1.73722243, -2.44228801, -2.29529274, -1.7511053 ,\n",
       "        -2.44490527, -2.30713777, -1.77298486, -2.43770349, -2.30734595,\n",
       "        -1.75792944, -2.43332991, -2.30482686, -1.73678581, -2.42701706,\n",
       "        -2.29870807, -1.73285037]),\n",
       " 'mean_test_score': array([-3.34008854, -2.94395119, -2.85638593, -3.32132834, -2.93582827,\n",
       "        -2.85140675, -3.32315322, -2.92511009, -2.83868653, -3.32406387,\n",
       "        -2.91566629, -2.83137888, -3.31671866, -2.91150113, -2.80548639,\n",
       "        -3.32401653, -2.90514086, -2.78862418, -3.33665769, -2.89660091,\n",
       "        -2.75626291, -3.34332859, -2.89239566, -2.73877087, -3.34567988,\n",
       "        -2.88264479, -2.7230615 ]),\n",
       " 'std_test_score': array([0.69957557, 0.64188452, 0.69459632, 0.68599564, 0.63872329,\n",
       "        0.68839803, 0.69030288, 0.63476046, 0.69260841, 0.69373849,\n",
       "        0.6304318 , 0.68878597, 0.69648308, 0.62744105, 0.68117348,\n",
       "        0.70634325, 0.6224485 , 0.65538523, 0.71118303, 0.61992327,\n",
       "        0.64919161, 0.71105586, 0.61964532, 0.65083584, 0.71239831,\n",
       "        0.62169863, 0.64813393]),\n",
       " 'rank_test_score': array([25, 18,  9, 20, 17,  8, 21, 16,  7, 23, 15,  6, 19, 14,  5, 22, 13,\n",
       "         4, 24, 12,  3, 26, 11,  2, 27, 10,  1])}"
      ]
     },
     "execution_count": 14,
     "metadata": {},
     "output_type": "execute_result"
    }
   ],
   "source": [
    "clf.cv_results_"
   ]
  },
  {
   "cell_type": "code",
   "execution_count": 16,
   "metadata": {
    "scrolled": true
   },
   "outputs": [
    {
     "data": {
      "text/plain": [
       "{'epsilon': 0.9, 'kernel': 'sigmoid'}"
      ]
     },
     "execution_count": 16,
     "metadata": {},
     "output_type": "execute_result"
    }
   ],
   "source": [
    "clf.best_params_"
   ]
  },
  {
   "cell_type": "code",
   "execution_count": 17,
   "metadata": {},
   "outputs": [
    {
     "data": {
      "text/plain": [
       "2.7230614960901804"
      ]
     },
     "execution_count": 17,
     "metadata": {},
     "output_type": "execute_result"
    }
   ],
   "source": [
    "-clf.best_score_"
   ]
  },
  {
   "cell_type": "code",
   "execution_count": 21,
   "metadata": {},
   "outputs": [
    {
     "data": {
      "text/plain": [
       "10"
      ]
     },
     "execution_count": 21,
     "metadata": {},
     "output_type": "execute_result"
    }
   ],
   "source": [
    "from sklearn.model_selection import KFold\n",
    "#faz a separação 90 / 10\n",
    "kf= KFold(n_splits=10)\n",
    "kf.get_n_splits(x)\n"
   ]
  },
  {
   "cell_type": "code",
   "execution_count": null,
   "metadata": {},
   "outputs": [],
   "source": [
    "x= x.values\n",
    "y= y.values #essa função do sklearn só funciona com nparray"
   ]
  },
  {
   "cell_type": "code",
   "execution_count": 25,
   "metadata": {},
   "outputs": [
    {
     "name": "stdout",
     "output_type": "stream",
     "text": [
      "TREINAMENTO ATUAL:\n",
      "TRAIN: [ 16  17  18  19  20  21  22  23  24  25  26  27  28  29  30  31  32  33\n",
      "  34  35  36  37  38  39  40  41  42  43  44  45  46  47  48  49  50  51\n",
      "  52  53  54  55  56  57  58  59  60  61  62  63  64  65  66  67  68  69\n",
      "  70  71  72  73  74  75  76  77  78  79  80  81  82  83  84  85  86  87\n",
      "  88  89  90  91  92  93  94  95  96  97  98  99 100 101 102 103 104 105\n",
      " 106 107 108 109 110 111 112 113 114 115 116 117 118 119 120 121 122 123\n",
      " 124 125 126 127 128 129 130 131 132 133 134 135 136 137 138 139 140 141\n",
      " 142 143 144 145 146 147 148 149 150 151 152 153 154 155 156 157] TEST: [ 0  1  2  3  4  5  6  7  8  9 10 11 12 13 14 15]\n",
      "Absolute Error: 4.045529270923264\n",
      "TREINAMENTO ATUAL:\n",
      "TRAIN: [  0   1   2   3   4   5   6   7   8   9  10  11  12  13  14  15  32  33\n",
      "  34  35  36  37  38  39  40  41  42  43  44  45  46  47  48  49  50  51\n",
      "  52  53  54  55  56  57  58  59  60  61  62  63  64  65  66  67  68  69\n",
      "  70  71  72  73  74  75  76  77  78  79  80  81  82  83  84  85  86  87\n",
      "  88  89  90  91  92  93  94  95  96  97  98  99 100 101 102 103 104 105\n",
      " 106 107 108 109 110 111 112 113 114 115 116 117 118 119 120 121 122 123\n",
      " 124 125 126 127 128 129 130 131 132 133 134 135 136 137 138 139 140 141\n",
      " 142 143 144 145 146 147 148 149 150 151 152 153 154 155 156 157] TEST: [16 17 18 19 20 21 22 23 24 25 26 27 28 29 30 31]\n",
      "Absolute Error: 3.361190653777742\n",
      "TREINAMENTO ATUAL:\n",
      "TRAIN: [  0   1   2   3   4   5   6   7   8   9  10  11  12  13  14  15  16  17\n",
      "  18  19  20  21  22  23  24  25  26  27  28  29  30  31  48  49  50  51\n",
      "  52  53  54  55  56  57  58  59  60  61  62  63  64  65  66  67  68  69\n",
      "  70  71  72  73  74  75  76  77  78  79  80  81  82  83  84  85  86  87\n",
      "  88  89  90  91  92  93  94  95  96  97  98  99 100 101 102 103 104 105\n",
      " 106 107 108 109 110 111 112 113 114 115 116 117 118 119 120 121 122 123\n",
      " 124 125 126 127 128 129 130 131 132 133 134 135 136 137 138 139 140 141\n",
      " 142 143 144 145 146 147 148 149 150 151 152 153 154 155 156 157] TEST: [32 33 34 35 36 37 38 39 40 41 42 43 44 45 46 47]\n",
      "Absolute Error: 2.345119643855009\n",
      "TREINAMENTO ATUAL:\n",
      "TRAIN: [  0   1   2   3   4   5   6   7   8   9  10  11  12  13  14  15  16  17\n",
      "  18  19  20  21  22  23  24  25  26  27  28  29  30  31  32  33  34  35\n",
      "  36  37  38  39  40  41  42  43  44  45  46  47  64  65  66  67  68  69\n",
      "  70  71  72  73  74  75  76  77  78  79  80  81  82  83  84  85  86  87\n",
      "  88  89  90  91  92  93  94  95  96  97  98  99 100 101 102 103 104 105\n",
      " 106 107 108 109 110 111 112 113 114 115 116 117 118 119 120 121 122 123\n",
      " 124 125 126 127 128 129 130 131 132 133 134 135 136 137 138 139 140 141\n",
      " 142 143 144 145 146 147 148 149 150 151 152 153 154 155 156 157] TEST: [48 49 50 51 52 53 54 55 56 57 58 59 60 61 62 63]\n",
      "Absolute Error: 3.5445789293186687\n",
      "TREINAMENTO ATUAL:\n",
      "TRAIN: [  0   1   2   3   4   5   6   7   8   9  10  11  12  13  14  15  16  17\n",
      "  18  19  20  21  22  23  24  25  26  27  28  29  30  31  32  33  34  35\n",
      "  36  37  38  39  40  41  42  43  44  45  46  47  48  49  50  51  52  53\n",
      "  54  55  56  57  58  59  60  61  62  63  80  81  82  83  84  85  86  87\n",
      "  88  89  90  91  92  93  94  95  96  97  98  99 100 101 102 103 104 105\n",
      " 106 107 108 109 110 111 112 113 114 115 116 117 118 119 120 121 122 123\n",
      " 124 125 126 127 128 129 130 131 132 133 134 135 136 137 138 139 140 141\n",
      " 142 143 144 145 146 147 148 149 150 151 152 153 154 155 156 157] TEST: [64 65 66 67 68 69 70 71 72 73 74 75 76 77 78 79]\n",
      "Absolute Error: 4.520027238223092\n",
      "TREINAMENTO ATUAL:\n",
      "TRAIN: [  0   1   2   3   4   5   6   7   8   9  10  11  12  13  14  15  16  17\n",
      "  18  19  20  21  22  23  24  25  26  27  28  29  30  31  32  33  34  35\n",
      "  36  37  38  39  40  41  42  43  44  45  46  47  48  49  50  51  52  53\n",
      "  54  55  56  57  58  59  60  61  62  63  64  65  66  67  68  69  70  71\n",
      "  72  73  74  75  76  77  78  79  96  97  98  99 100 101 102 103 104 105\n",
      " 106 107 108 109 110 111 112 113 114 115 116 117 118 119 120 121 122 123\n",
      " 124 125 126 127 128 129 130 131 132 133 134 135 136 137 138 139 140 141\n",
      " 142 143 144 145 146 147 148 149 150 151 152 153 154 155 156 157] TEST: [80 81 82 83 84 85 86 87 88 89 90 91 92 93 94 95]\n",
      "Absolute Error: 4.542693729076774\n",
      "TREINAMENTO ATUAL:\n",
      "TRAIN: [  0   1   2   3   4   5   6   7   8   9  10  11  12  13  14  15  16  17\n",
      "  18  19  20  21  22  23  24  25  26  27  28  29  30  31  32  33  34  35\n",
      "  36  37  38  39  40  41  42  43  44  45  46  47  48  49  50  51  52  53\n",
      "  54  55  56  57  58  59  60  61  62  63  64  65  66  67  68  69  70  71\n",
      "  72  73  74  75  76  77  78  79  80  81  82  83  84  85  86  87  88  89\n",
      "  90  91  92  93  94  95 112 113 114 115 116 117 118 119 120 121 122 123\n",
      " 124 125 126 127 128 129 130 131 132 133 134 135 136 137 138 139 140 141\n",
      " 142 143 144 145 146 147 148 149 150 151 152 153 154 155 156 157] TEST: [ 96  97  98  99 100 101 102 103 104 105 106 107 108 109 110 111]\n",
      "Absolute Error: 3.681052858133996\n",
      "TREINAMENTO ATUAL:\n",
      "TRAIN: [  0   1   2   3   4   5   6   7   8   9  10  11  12  13  14  15  16  17\n",
      "  18  19  20  21  22  23  24  25  26  27  28  29  30  31  32  33  34  35\n",
      "  36  37  38  39  40  41  42  43  44  45  46  47  48  49  50  51  52  53\n",
      "  54  55  56  57  58  59  60  61  62  63  64  65  66  67  68  69  70  71\n",
      "  72  73  74  75  76  77  78  79  80  81  82  83  84  85  86  87  88  89\n",
      "  90  91  92  93  94  95  96  97  98  99 100 101 102 103 104 105 106 107\n",
      " 108 109 110 111 128 129 130 131 132 133 134 135 136 137 138 139 140 141\n",
      " 142 143 144 145 146 147 148 149 150 151 152 153 154 155 156 157] TEST: [112 113 114 115 116 117 118 119 120 121 122 123 124 125 126 127]\n",
      "Absolute Error: 3.4097865492358914\n",
      "TREINAMENTO ATUAL:\n",
      "TRAIN: [  0   1   2   3   4   5   6   7   8   9  10  11  12  13  14  15  16  17\n",
      "  18  19  20  21  22  23  24  25  26  27  28  29  30  31  32  33  34  35\n",
      "  36  37  38  39  40  41  42  43  44  45  46  47  48  49  50  51  52  53\n",
      "  54  55  56  57  58  59  60  61  62  63  64  65  66  67  68  69  70  71\n",
      "  72  73  74  75  76  77  78  79  80  81  82  83  84  85  86  87  88  89\n",
      "  90  91  92  93  94  95  96  97  98  99 100 101 102 103 104 105 106 107\n",
      " 108 109 110 111 112 113 114 115 116 117 118 119 120 121 122 123 124 125\n",
      " 126 127 143 144 145 146 147 148 149 150 151 152 153 154 155 156 157] TEST: [128 129 130 131 132 133 134 135 136 137 138 139 140 141 142]\n",
      "Absolute Error: 2.211532943559331\n",
      "TREINAMENTO ATUAL:\n",
      "TRAIN: [  0   1   2   3   4   5   6   7   8   9  10  11  12  13  14  15  16  17\n",
      "  18  19  20  21  22  23  24  25  26  27  28  29  30  31  32  33  34  35\n",
      "  36  37  38  39  40  41  42  43  44  45  46  47  48  49  50  51  52  53\n",
      "  54  55  56  57  58  59  60  61  62  63  64  65  66  67  68  69  70  71\n",
      "  72  73  74  75  76  77  78  79  80  81  82  83  84  85  86  87  88  89\n",
      "  90  91  92  93  94  95  96  97  98  99 100 101 102 103 104 105 106 107\n",
      " 108 109 110 111 112 113 114 115 116 117 118 119 120 121 122 123 124 125\n",
      " 126 127 128 129 130 131 132 133 134 135 136 137 138 139 140 141 142] TEST: [143 144 145 146 147 148 149 150 151 152 153 154 155 156 157]\n",
      "Absolute Error: 3.1498917423696677\n"
     ]
    }
   ],
   "source": [
    "\n",
    "todos_mae=[]\n",
    "from sklearn.metrics import mean_absolute_error\n",
    "\n",
    "for train_index, test_index in kf.split(x):\n",
    "    x_train, x_test = x[train_index], x[test_index] #gera os indices a serem treinados\n",
    "    y_train, y_test = y[train_index], y[test_index] \n",
    "    \n",
    "    print('TREINAMENTO ATUAL:')\n",
    "    print(\"TRAIN:\", train_index, \"TEST:\", test_index)\n",
    "    \n",
    "    regr=SVR(kernel= 'sigmoid', epsilon = 0.9)\n",
    "    regr.fit(x_train,y_train)\n",
    "    \n",
    "    previsoes= regr.predict(x_test)\n",
    "    erro_médio = mean_absolute_error(y_test, previsoes)\n",
    "    \n",
    "    print('Absolute Error:', erro_médio)\n",
    "    todos_mae.append(erro_médio)"
   ]
  },
  {
   "cell_type": "code",
   "execution_count": 30,
   "metadata": {},
   "outputs": [
    {
     "data": {
      "text/plain": [
       "[4.045529270923264,\n",
       " 3.361190653777742,\n",
       " 2.345119643855009,\n",
       " 3.5445789293186687,\n",
       " 4.520027238223092,\n",
       " 4.542693729076774,\n",
       " 3.681052858133996,\n",
       " 3.4097865492358914,\n",
       " 2.211532943559331,\n",
       " 3.1498917423696677]"
      ]
     },
     "execution_count": 30,
     "metadata": {},
     "output_type": "execute_result"
    }
   ],
   "source": [
    "todos_mae"
   ]
  },
  {
   "cell_type": "code",
   "execution_count": 31,
   "metadata": {},
   "outputs": [
    {
     "name": "stdout",
     "output_type": "stream",
     "text": [
      "3.481140355847344\n"
     ]
    }
   ],
   "source": [
    "mae_geral=0\n",
    "for c in todos_mae:\n",
    "    mae_geral += (c/len(todos_mae))\n",
    "print(mae_geral)"
   ]
  },
  {
   "cell_type": "code",
   "execution_count": null,
   "metadata": {},
   "outputs": [],
   "source": []
  }
 ],
 "metadata": {
  "kernelspec": {
   "display_name": "Python 3",
   "language": "python",
   "name": "python3"
  },
  "language_info": {
   "codemirror_mode": {
    "name": "ipython",
    "version": 3
   },
   "file_extension": ".py",
   "mimetype": "text/x-python",
   "name": "python",
   "nbconvert_exporter": "python",
   "pygments_lexer": "ipython3",
   "version": "3.6.12"
  }
 },
 "nbformat": 4,
 "nbformat_minor": 4
}

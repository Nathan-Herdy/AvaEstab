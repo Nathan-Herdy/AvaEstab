{
 "cells": [
  {
   "cell_type": "code",
   "execution_count": 1,
   "metadata": {},
   "outputs": [],
   "source": [
    "import pandas as pd\n"
   ]
  },
  {
   "cell_type": "code",
   "execution_count": 2,
   "metadata": {},
   "outputs": [],
   "source": [
    "from sklearn.preprocessing import LabelEncoder\n",
    "laberencoder= LabelEncoder()"
   ]
  },
  {
   "cell_type": "code",
   "execution_count": 3,
   "metadata": {},
   "outputs": [],
   "source": [
    "base = pd.read_csv(filepath_or_buffer='/Users/Nathan/Desktop/Machine Learning/Projeto de Extensão/FEATURES/FiltredBDS.txt', sep = '\\t')"
   ]
  },
  {
   "cell_type": "code",
   "execution_count": 4,
   "metadata": {},
   "outputs": [],
   "source": [
    "#categorizando o genero\n",
    "base['Gender'] = laberencoder.fit_transform(base['Gender'])"
   ]
  },
  {
   "cell_type": "code",
   "execution_count": 5,
   "metadata": {},
   "outputs": [
    {
     "data": {
      "text/plain": [
       "Index(['Unnamed: 0', 'Unnamed: 0.1', 'Subject', 'Age', 'AgeGroup', 'Gender',\n",
       "       'Height', 'Weight', 'BMI', 'FootLen', 'Nationality', 'SkinColor',\n",
       "       'Ystudy', 'Footwear', 'Illness', 'Illness2', 'Nmedication',\n",
       "       'Medication', 'Ortho-Prosthesis', 'Ortho-Prosthesis2', 'Disability',\n",
       "       'Disability2', 'Falls12m', 'FES_1', 'FES_2', 'FES_3', 'FES_4', 'FES_5',\n",
       "       'FES_6', 'FES_7', 'FES_T', 'FES_S', 'IPAQ_1a', 'IPAQ_1b', 'IPAQ_2a',\n",
       "       'IPAQ_2b', 'IPAQ_3a', 'IPAQ_3b', 'IPAQ_4a', 'IPAQ_4b', 'IPAQ_S',\n",
       "       'TMT_timeA', 'TMT_errorsA', 'TMT_timeB', 'TMT_errorsB', 'Best_1',\n",
       "       'Best_2', 'Best_3l', 'Best_3r', 'Best_4', 'Best_5', 'Best_6l',\n",
       "       'Best_6r', 'Best_7', 'Best_8', 'Best_9', 'Best_10', 'Best_11',\n",
       "       'Best_12', 'Best_13', 'Best_14', 'Best_T', 'COParea - Open - Firm',\n",
       "       'COPvelo - Open - Firm'],\n",
       "      dtype='object')"
      ]
     },
     "execution_count": 5,
     "metadata": {},
     "output_type": "execute_result"
    }
   ],
   "source": [
    "base.columns[0:64]"
   ]
  },
  {
   "cell_type": "code",
   "execution_count": 6,
   "metadata": {},
   "outputs": [],
   "source": [
    "x = base.drop(['Unnamed: 0', 'Unnamed: 0.1', 'Subject', 'AgeGroup',\n",
    "       'FootLen', 'Nationality','BMI', 'SkinColor',\n",
    "       'Ystudy', 'Footwear', 'Illness', 'Illness2', 'Nmedication',\n",
    "       'Medication', 'Ortho-Prosthesis', 'Ortho-Prosthesis2', 'Disability',\n",
    "       'Disability2', 'Falls12m', 'FES_1', 'FES_2', 'FES_3', 'FES_4', 'FES_5',\n",
    "       'FES_6', 'FES_7', 'FES_T', 'FES_S', 'IPAQ_1a', 'IPAQ_1b', 'IPAQ_2a',\n",
    "       'IPAQ_2b', 'IPAQ_3a', 'IPAQ_3b', 'IPAQ_4a', 'IPAQ_4b', 'IPAQ_S',\n",
    "       'TMT_timeA', 'TMT_errorsA', 'TMT_timeB', 'TMT_errorsB', 'Best_1',\n",
    "       'Best_2', 'Best_3l', 'Best_3r', 'Best_4', 'Best_5', 'Best_6l',\n",
    "       'Best_6r', 'Best_7', 'Best_8', 'Best_9', 'Best_10', 'Best_11',\n",
    "       'Best_12', 'Best_13', 'Best_14', 'Best_T','x_entropy_cop - Open - Firm','y_entropy_cop - Open - Firm',\n",
    "       'x_entropy_cop - Closed - Firm','y_entropy_cop - Closed - Firm', 'x_entropy_cop - Open - Foam',\n",
    "        'y_entropy_cop - Open - Foam','x_entropy_cop - Closed - Foam','y_entropy_cop - Closed - Foam',\n",
    "        'x_impulse_factor_cop - Open - Firm','y_impulse_factor_cop - Open - Firm',\n",
    "        'x_impulse_factor_cop - Open - Foam','y_impulse_factor_cop - Open - Foam',\n",
    "        'x_impulse_factor_cop - Closed - Firm','y_impulse_factor_cop - Closed - Firm',\n",
    "        'x_kurtosis_cop - Open - Firm','y_kurtosis_cop - Open - Firm',\n",
    "        'x_kurtosis_cop - Open - Foam','y_kurtosis_cop - Open - Foam',\n",
    "        'x_kurtosis_cop - Closed - Firm','y_kurtosis_cop - Closed - Firm',\n",
    "        'x_kurtosis_factor_cop - Open - Firm','y_kurtosis_factor_cop - Open - Firm',\n",
    "        'x_kurtosis_factor_cop - Open - Foam','y_kurtosis_factor_cop - Open - Foam',\n",
    "        'x_kurtosis_factor_cop - Closed - Firm','y_kurtosis_factor_cop - Closed - Firm'\n",
    "        ], axis = 1)"
   ]
  },
  {
   "cell_type": "code",
   "execution_count": 7,
   "metadata": {},
   "outputs": [],
   "source": [
    "#FEATURES DO RESNET\n",
    "#resnetfeatures = pd.read_csv(filepath_or_buffer='/Users/Nathan/Desktop/Machine Learning/Projeto de Extensão/2020/Outubro/heat_map_encoded.txt', sep = '\\t')\n",
    "#resnetfeatures = resnetfeatures.reindex()\n",
    "#resnetfeatures.drop('Unnamed: 0',inplace = True, axis = 1)\n",
    "\n",
    "#UNINDO AS FEATURES\n",
    "#x = x.join(resnetfeatures)\n",
    "\n",
    "#NORMALIZANDO O DATAFRAME\n",
    "from sklearn.preprocessing import StandardScaler\n",
    "scaler = StandardScaler()\n",
    "x = scaler.fit_transform(x)\n",
    "\n",
    "x = pd.DataFrame(x)"
   ]
  },
  {
   "cell_type": "code",
   "execution_count": 8,
   "metadata": {},
   "outputs": [],
   "source": [
    "y = base['Best_T']"
   ]
  },
  {
   "cell_type": "code",
   "execution_count": 9,
   "metadata": {},
   "outputs": [
    {
     "data": {
      "text/plain": [
       "0      25\n",
       "1      25\n",
       "2      27\n",
       "3      26\n",
       "4      27\n",
       "       ..\n",
       "153    28\n",
       "154    24\n",
       "155    25\n",
       "156    26\n",
       "157    26\n",
       "Name: Best_T, Length: 158, dtype: int64"
      ]
     },
     "execution_count": 9,
     "metadata": {},
     "output_type": "execute_result"
    }
   ],
   "source": [
    "y"
   ]
  },
  {
   "cell_type": "code",
   "execution_count": 10,
   "metadata": {
    "scrolled": true
   },
   "outputs": [
    {
     "data": {
      "text/plain": [
       "GridSearchCV(cv=10, estimator=KNeighborsRegressor(),\n",
       "             param_grid={'algorithm': ('auto', 'ball_tree', 'kd_tree', 'brute'),\n",
       "                         'n_neighbors': (2, 3, 5)},\n",
       "             scoring='neg_mean_absolute_error')"
      ]
     },
     "execution_count": 10,
     "metadata": {},
     "output_type": "execute_result"
    }
   ],
   "source": [
    "#from sklearn.model_selection import train_test_split\n",
    "#x_train, x_test, y_train, y_test = train_test_split(x, y, test_size = 0.10)\n",
    "\n",
    "from sklearn.model_selection import GridSearchCV\n",
    "from sklearn.neighbors import KNeighborsRegressor as KNNR\n",
    "\n",
    "parametros = {'algorithm':('auto', 'ball_tree', 'kd_tree', 'brute'), 'n_neighbors':(2,3,5)}\n",
    "knn = KNNR()\n",
    "clf = GridSearchCV(knn, parametros, scoring='neg_mean_absolute_error', cv= 10)\n",
    "\n",
    "clf.fit(x,y)\n"
   ]
  },
  {
   "cell_type": "code",
   "execution_count": 11,
   "metadata": {},
   "outputs": [
    {
     "data": {
      "text/plain": [
       "{'mean_fit_time': array([0.00799899, 0.00799932, 0.00869832, 0.00639935, 0.00639975,\n",
       "        0.00629878, 0.00729818, 0.00789924, 0.00729845, 0.00509872,\n",
       "        0.00509779, 0.00489898]),\n",
       " 'std_fit_time': array([4.47182603e-04, 1.02934995e-06, 2.09968771e-03, 4.89922727e-04,\n",
       "        4.89885533e-04, 4.57424284e-04, 4.57560310e-04, 1.13641846e-03,\n",
       "        4.57546678e-04, 3.01394906e-04, 3.00513829e-04, 2.98486594e-04]),\n",
       " 'mean_score_time': array([0.00580127, 0.00590107, 0.00650101, 0.00560091, 0.00560009,\n",
       "        0.00550089, 0.00610151, 0.00610092, 0.00590086, 0.00570166,\n",
       "        0.00490174, 0.00510046]),\n",
       " 'std_score_time': array([0.00040028, 0.00029969, 0.00067109, 0.00048982, 0.00048993,\n",
       "        0.00067131, 0.00029981, 0.0005384 , 0.0002993 , 0.00179216,\n",
       "        0.00030052, 0.00029946]),\n",
       " 'param_algorithm': masked_array(data=['auto', 'auto', 'auto', 'ball_tree', 'ball_tree',\n",
       "                    'ball_tree', 'kd_tree', 'kd_tree', 'kd_tree', 'brute',\n",
       "                    'brute', 'brute'],\n",
       "              mask=[False, False, False, False, False, False, False, False,\n",
       "                    False, False, False, False],\n",
       "        fill_value='?',\n",
       "             dtype=object),\n",
       " 'param_n_neighbors': masked_array(data=[2, 3, 5, 2, 3, 5, 2, 3, 5, 2, 3, 5],\n",
       "              mask=[False, False, False, False, False, False, False, False,\n",
       "                    False, False, False, False],\n",
       "        fill_value='?',\n",
       "             dtype=object),\n",
       " 'params': [{'algorithm': 'auto', 'n_neighbors': 2},\n",
       "  {'algorithm': 'auto', 'n_neighbors': 3},\n",
       "  {'algorithm': 'auto', 'n_neighbors': 5},\n",
       "  {'algorithm': 'ball_tree', 'n_neighbors': 2},\n",
       "  {'algorithm': 'ball_tree', 'n_neighbors': 3},\n",
       "  {'algorithm': 'ball_tree', 'n_neighbors': 5},\n",
       "  {'algorithm': 'kd_tree', 'n_neighbors': 2},\n",
       "  {'algorithm': 'kd_tree', 'n_neighbors': 3},\n",
       "  {'algorithm': 'kd_tree', 'n_neighbors': 5},\n",
       "  {'algorithm': 'brute', 'n_neighbors': 2},\n",
       "  {'algorithm': 'brute', 'n_neighbors': 3},\n",
       "  {'algorithm': 'brute', 'n_neighbors': 5}],\n",
       " 'split0_test_score': array([-3.4375    , -3.58333333, -3.75      , -3.4375    , -3.58333333,\n",
       "        -3.75      , -3.4375    , -3.58333333, -3.75      , -3.4375    ,\n",
       "        -3.58333333, -3.75      ]),\n",
       " 'split1_test_score': array([-2.21875, -2.5    , -1.85   , -2.21875, -2.5    , -1.85   ,\n",
       "        -2.21875, -2.5    , -1.85   , -2.21875, -2.5    , -1.85   ]),\n",
       " 'split2_test_score': array([-1.9375, -1.9375, -2.0875, -1.9375, -1.9375, -2.0875, -1.9375,\n",
       "        -1.9375, -2.0875, -1.9375, -1.9375, -2.0875]),\n",
       " 'split3_test_score': array([-3.03125   , -2.85416667, -2.8375    , -3.03125   , -2.85416667,\n",
       "        -2.8375    , -3.03125   , -2.85416667, -2.8375    , -3.03125   ,\n",
       "        -2.85416667, -2.8375    ]),\n",
       " 'split4_test_score': array([-2.625     , -2.70833333, -2.55      , -2.625     , -2.70833333,\n",
       "        -2.55      , -2.625     , -2.70833333, -2.55      , -2.625     ,\n",
       "        -2.70833333, -2.55      ]),\n",
       " 'split5_test_score': array([-2.28125   , -2.20833333, -2.2125    , -2.28125   , -2.20833333,\n",
       "        -2.2125    , -2.28125   , -2.20833333, -2.2125    , -2.28125   ,\n",
       "        -2.20833333, -2.2125    ]),\n",
       " 'split6_test_score': array([-3.21875   , -2.95833333, -2.9625    , -3.21875   , -2.95833333,\n",
       "        -2.9625    , -3.21875   , -2.95833333, -2.9625    , -3.21875   ,\n",
       "        -2.95833333, -2.9625    ]),\n",
       " 'split7_test_score': array([-2.875     , -2.66666667, -2.4875    , -2.875     , -2.66666667,\n",
       "        -2.4875    , -2.875     , -2.66666667, -2.4875    , -2.875     ,\n",
       "        -2.66666667, -2.4875    ]),\n",
       " 'split8_test_score': array([-2.4       , -2.17777778, -1.89333333, -2.4       , -2.17777778,\n",
       "        -1.89333333, -2.4       , -2.17777778, -1.89333333, -2.4       ,\n",
       "        -2.17777778, -1.89333333]),\n",
       " 'split9_test_score': array([-1.83333333, -1.48888889, -1.94666667, -1.83333333, -1.48888889,\n",
       "        -1.94666667, -1.83333333, -1.48888889, -1.94666667, -1.83333333,\n",
       "        -1.48888889, -1.94666667]),\n",
       " 'mean_test_score': array([-2.58583333, -2.50833333, -2.45775   , -2.58583333, -2.50833333,\n",
       "        -2.45775   , -2.58583333, -2.50833333, -2.45775   , -2.58583333,\n",
       "        -2.50833333, -2.45775   ]),\n",
       " 'std_test_score': array([0.51556906, 0.55742706, 0.56786027, 0.51556906, 0.55742706,\n",
       "        0.56786027, 0.51556906, 0.55742706, 0.56786027, 0.51556906,\n",
       "        0.55742706, 0.56786027]),\n",
       " 'rank_test_score': array([9, 5, 1, 9, 5, 1, 9, 5, 1, 9, 5, 1])}"
      ]
     },
     "execution_count": 11,
     "metadata": {},
     "output_type": "execute_result"
    }
   ],
   "source": [
    "clf.cv_results_"
   ]
  },
  {
   "cell_type": "code",
   "execution_count": 12,
   "metadata": {},
   "outputs": [
    {
     "data": {
      "text/plain": [
       "{'algorithm': 'auto', 'n_neighbors': 5}"
      ]
     },
     "execution_count": 12,
     "metadata": {},
     "output_type": "execute_result"
    }
   ],
   "source": [
    "clf.best_params_"
   ]
  },
  {
   "cell_type": "code",
   "execution_count": 13,
   "metadata": {},
   "outputs": [
    {
     "data": {
      "text/plain": [
       "2.45775"
      ]
     },
     "execution_count": 13,
     "metadata": {},
     "output_type": "execute_result"
    }
   ],
   "source": [
    "-clf.best_score_"
   ]
  },
  {
   "cell_type": "code",
   "execution_count": null,
   "metadata": {},
   "outputs": [],
   "source": []
  }
 ],
 "metadata": {
  "kernelspec": {
   "display_name": "Python 3 (ipykernel)",
   "language": "python",
   "name": "python3"
  },
  "language_info": {
   "codemirror_mode": {
    "name": "ipython",
    "version": 3
   },
   "file_extension": ".py",
   "mimetype": "text/x-python",
   "name": "python",
   "nbconvert_exporter": "python",
   "pygments_lexer": "ipython3",
   "version": "3.10.9"
  }
 },
 "nbformat": 4,
 "nbformat_minor": 4
}
